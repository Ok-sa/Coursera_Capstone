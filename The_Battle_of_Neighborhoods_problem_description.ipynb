{
 "cells": [
  {
   "cell_type": "markdown",
   "metadata": {},
   "source": [
    "# The battle of neighborhoods: Need for coffee"
   ]
  },
  {
   "cell_type": "markdown",
   "metadata": {},
   "source": [
    "## Week 1"
   ]
  },
  {
   "cell_type": "markdown",
   "metadata": {},
   "source": [
    "## Problem description"
   ]
  },
  {
   "cell_type": "markdown",
   "metadata": {},
   "source": [
    "**Coffee** is one of  the most widely consumed beverages in the world. It is more than just a drink: it is a culture, an industry, an art, and a passion. Having a cup of coffee is an everyday  ritual for a lot of people. Cafeterias  and coffee shops have become favorite places for business meetings, romantic rendezvous, and to hang out with friends.\n",
    "Big cities, especially those districts that are populated with business or office facilities, historical or entertaining areas that attract a lot of tourists, usually, have numerous venues related to serving and selling coffee.\n"
   ]
  },
  {
   "cell_type": "markdown",
   "metadata": {},
   "source": [
    "In my final report, I will explore coffee shops of San Francisco, CA, find out how many coffe shops are located in each neighborhood, build maps that represent the quantity and quality of them. Also, i will try to forecast where is the best location in San Francisco to open a new coffee shop."
   ]
  },
  {
   "cell_type": "code",
   "execution_count": null,
   "metadata": {},
   "outputs": [],
   "source": []
  }
 ],
 "metadata": {
  "kernelspec": {
   "display_name": "Python",
   "language": "python",
   "name": "conda-env-python-py"
  },
  "language_info": {
   "codemirror_mode": {
    "name": "ipython",
    "version": 3
   },
   "file_extension": ".py",
   "mimetype": "text/x-python",
   "name": "python",
   "nbconvert_exporter": "python",
   "pygments_lexer": "ipython3",
   "version": "3.6.12"
  }
 },
 "nbformat": 4,
 "nbformat_minor": 4
}
